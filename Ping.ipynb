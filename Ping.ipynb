{
  "nbformat": 4,
  "nbformat_minor": 0,
  "metadata": {
    "colab": {
      "name": "Olá, este é o Colaboratory",
      "provenance": [],
      "collapsed_sections": [],
      "toc_visible": true,
      "include_colab_link": true
    },
    "kernelspec": {
      "display_name": "Python 3",
      "name": "python3"
    }
  },
  "cells": [
    {
      "cell_type": "markdown",
      "metadata": {
        "id": "view-in-github",
        "colab_type": "text"
      },
      "source": [
        "<a href=\"https://colab.research.google.com/github/macielterra/Python_Basico_Avancado/blob/master/Ping.ipynb\" target=\"_parent\"><img src=\"https://colab.research.google.com/assets/colab-badge.svg\" alt=\"Open In Colab\"/></a>"
      ]
    },
    {
      "cell_type": "code",
      "metadata": {
        "id": "Ra_j8GdTcVQg"
      },
      "source": [
        "import os\n",
        "import time\n",
        "import threading"
      ],
      "execution_count": null,
      "outputs": []
    },
    {
      "cell_type": "code",
      "metadata": {
        "id": "B5Fwf_M5dXPL"
      },
      "source": [
        "class Monitor(threading.Thread):\n",
        "  def __init__(self,ip):\n",
        "    self.ip = ip\n",
        "    self.status = None\n",
        "    threading.Thread.__init__(self)"
      ],
      "execution_count": null,
      "outputs": []
    },
    {
      "cell_type": "code",
      "metadata": {
        "id": "4DIHnp3FevyH"
      },
      "source": [
        "  def run(self):\n",
        "    ping = os.popen('ping -n 1 %s' % self.ip).read()\n",
        "\n",
        "    if 'Esgotado' in ping:\n",
        "      self.status = False\n",
        "    else:\n",
        "      self.status = True"
      ],
      "execution_count": null,
      "outputs": []
    },
    {
      "cell_type": "code",
      "metadata": {
        "id": "tzzK_K58fZt3"
      },
      "source": [
        "if __name__=='__main__':\n",
        "  monitores = []\n",
        "  for i in range(1,254):\n",
        "    ip='192.168.0.%d'%i\n",
        "    monitores.append(Monitor(ip))"
      ],
      "execution_count": null,
      "outputs": []
    },
    {
      "cell_type": "code",
      "metadata": {
        "id": "rZOiXwQYgB6y"
      },
      "source": [
        "  for monitor in monitores:\n",
        "    monitor.start()\n",
        "  ping = True"
      ],
      "execution_count": null,
      "outputs": []
    },
    {
      "cell_type": "code",
      "metadata": {
        "id": "XQWI9LDdgkhK"
      },
      "source": [
        "  while ping:\n",
        "    ping = False"
      ],
      "execution_count": null,
      "outputs": []
    },
    {
      "cell_type": "code",
      "metadata": {
        "id": "Nb0N8vESgqTU"
      },
      "source": [
        "    for monitor in monitores:\n",
        "      if monitor.status == None:\n",
        "        ping = True\n",
        "        break"
      ],
      "execution_count": null,
      "outputs": []
    },
    {
      "cell_type": "code",
      "metadata": {
        "id": "750wl6c9g9X0"
      },
      "source": [
        "    time.sleep(1)"
      ],
      "execution_count": null,
      "outputs": []
    },
    {
      "cell_type": "code",
      "metadata": {
        "id": "SPnjk0sYhNT3"
      },
      "source": [
        "  for monitor in monitores:\n",
        "    if monitor.status:\n",
        "      print('%s no ar' % monitor.ip)\n",
        "    else:\n",
        "      print ('%s fora do ar' % monitor.ip)"
      ],
      "execution_count": null,
      "outputs": []
    }
  ]
}